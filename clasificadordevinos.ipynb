{
  "nbformat": 4,
  "nbformat_minor": 0,
  "metadata": {
    "colab": {
      "name": "clasificadordevinos.ipynb",
      "provenance": [],
      "authorship_tag": "ABX9TyO91dEEAHLL96l9Uesk5jy0",
      "include_colab_link": true
    },
    "kernelspec": {
      "name": "python3",
      "display_name": "Python 3"
    }
  },
  "cells": [
    {
      "cell_type": "markdown",
      "metadata": {
        "id": "view-in-github",
        "colab_type": "text"
      },
      "source": [
        "<a href=\"https://colab.research.google.com/github/electrolabopen/archivoscsv/blob/master/clasificadordevinos.ipynb\" target=\"_parent\"><img src=\"https://colab.research.google.com/assets/colab-badge.svg\" alt=\"Open In Colab\"/></a>"
      ]
    },
    {
      "cell_type": "code",
      "metadata": {
        "id": "-JJXtKmZ84xi",
        "colab_type": "code",
        "colab": {}
      },
      "source": [
        "import pandas as pd\n",
        "from sklearn.model_selection import train_test_split\n",
        "\n",
        "# ''\n",
        "#Leemos el archivo csv de github\n",
        "url = 'https://raw.githubusercontent.com/electrolabopen/archivoscsv/master/wineq.csv'\n",
        "datos = pd.read_csv(url)\n",
        "datos = datos.astype(float).fillna(0.0)"
      ],
      "execution_count": 0,
      "outputs": []
    },
    {
      "cell_type": "code",
      "metadata": {
        "id": "g8-L4l7w_oEJ",
        "colab_type": "code",
        "colab": {}
      },
      "source": [
        "#Definimos los datos de las columnas\n",
        "y = datos.quality\n",
        "X = datos.drop('quality', axis=1)\n",
        "#Me cuenta el numero de datos\n",
        "print(datos['quality'].value_counts())\n",
        "\n",
        "#Creamo el modelo \n",
        "X_train, X_test, y_train, y_test = train_test_split(X,y,test_size=0.2, random_state=42,stratify=y)\n"
      ],
      "execution_count": 0,
      "outputs": []
    },
    {
      "cell_type": "code",
      "metadata": {
        "id": "1IxszzogCh9y",
        "colab_type": "code",
        "colab": {
          "base_uri": "https://localhost:8080/",
          "height": 34
        },
        "outputId": "bd046325-0db7-42c0-8c21-49f572f2768a"
      },
      "source": [
        "from sklearn.preprocessing import StandardScaler\n",
        "sc = StandardScaler()\n",
        "X_train_array = sc.fit_transform(X_train.values)\n",
        "X_train = pd.DataFrame(X_train_array, index=X_train.index, columns=X_train.columns)\n",
        "X_test_array = sc.transform(X_test.values)\n",
        "X_test = pd.DataFrame(X_test_array, index=X_test.index, columns=X_test.columns)\n",
        "\n",
        "from sklearn.svm import SVC\n",
        "clf = SVC(kernel = 'rbf').fit(X_train,y_train)\n",
        "print(clf.score(X_test,y_test))\n",
        "# opciones para el kernel = poly,linear,rbf,sigmoid"
      ],
      "execution_count": 10,
      "outputs": [
        {
          "output_type": "stream",
          "text": [
            "0.625\n"
          ],
          "name": "stdout"
        }
      ]
    }
  ]
}