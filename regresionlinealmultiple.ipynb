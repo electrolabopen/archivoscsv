{
  "nbformat": 4,
  "nbformat_minor": 0,
  "metadata": {
    "colab": {
      "name": "regresionlinealmultiple.ipynb",
      "provenance": [],
      "mount_file_id": "1DqgC-rCf-v287MCIuaFY-2mf_W044Vlv",
      "authorship_tag": "ABX9TyPCCFNw/cGeQ76M66csIBLl",
      "include_colab_link": true
    },
    "kernelspec": {
      "name": "python3",
      "display_name": "Python 3"
    }
  },
  "cells": [
    {
      "cell_type": "markdown",
      "metadata": {
        "id": "view-in-github",
        "colab_type": "text"
      },
      "source": [
        "<a href=\"https://colab.research.google.com/github/electrolabopen/archivoscsv/blob/master/regresionlinealmultiple.ipynb\" target=\"_parent\"><img src=\"https://colab.research.google.com/assets/colab-badge.svg\" alt=\"Open In Colab\"/></a>"
      ]
    },
    {
      "cell_type": "code",
      "metadata": {
        "id": "RDUquKvFYVV1",
        "colab_type": "code",
        "colab": {
          "base_uri": "https://localhost:8080/",
          "height": 476
        },
        "outputId": "162d1eea-1f9c-4598-c6cb-0cdace4efe91"
      },
      "source": [
        "import pandas as pd\n",
        "df= pd.read_csv('/content/drive/My Drive/MultipleLinear.csv')\n",
        "print(df)\n",
        "print(df.columns)"
      ],
      "execution_count": 2,
      "outputs": [
        {
          "output_type": "stream",
          "text": [
            "        y  x1    x2\n",
            "0   16.68   7   560\n",
            "1   11.50   3   220\n",
            "2   12.03   3   340\n",
            "3   14.88   4    80\n",
            "4   13.75   6   150\n",
            "5   18.11   7   330\n",
            "6    8.00   2   110\n",
            "7   17.83   7   210\n",
            "8   79.24  30  1460\n",
            "9   21.50   5   605\n",
            "10  40.33  16   688\n",
            "11  21.00  10   215\n",
            "12  13.50   4   255\n",
            "13  19.75   6   462\n",
            "14  24.00   9   448\n",
            "15  29.00  10   776\n",
            "16  15.35   6   200\n",
            "17  19.00   7   132\n",
            "18   9.50   3    36\n",
            "19  35.10  17   770\n",
            "20  17.90  10   140\n",
            "21  52.32  26   810\n",
            "22  18.75   9   450\n",
            "23  19.83   8   635\n",
            "24  10.75   4   150\n",
            "Index(['y', 'x1', 'x2'], dtype='object')\n"
          ],
          "name": "stdout"
        }
      ]
    },
    {
      "cell_type": "code",
      "metadata": {
        "id": "GHBKmyldZyT2",
        "colab_type": "code",
        "colab": {
          "base_uri": "https://localhost:8080/",
          "height": 139
        },
        "outputId": "c7d57e67-5a5d-4d00-a801-8d918f19e872"
      },
      "source": [
        "from google.colab import drive\n",
        "drive.mount('/gdrive')\n",
        "%cd /gdrive"
      ],
      "execution_count": 1,
      "outputs": [
        {
          "output_type": "stream",
          "text": [
            "Go to this URL in a browser: https://accounts.google.com/o/oauth2/auth?client_id=947318989803-6bn6qk8qdgf4n4g3pfee6491hc0brc4i.apps.googleusercontent.com&redirect_uri=urn%3aietf%3awg%3aoauth%3a2.0%3aoob&response_type=code&scope=email%20https%3a%2f%2fwww.googleapis.com%2fauth%2fdocs.test%20https%3a%2f%2fwww.googleapis.com%2fauth%2fdrive%20https%3a%2f%2fwww.googleapis.com%2fauth%2fdrive.photos.readonly%20https%3a%2f%2fwww.googleapis.com%2fauth%2fpeopleapi.readonly\n",
            "\n",
            "Enter your authorization code:\n",
            "··········\n",
            "Mounted at /gdrive\n",
            "/gdrive\n"
          ],
          "name": "stdout"
        }
      ]
    },
    {
      "cell_type": "code",
      "metadata": {
        "id": "RMqCkWGZbHA7",
        "colab_type": "code",
        "colab": {}
      },
      "source": [
        "#convertir en un arreglo\n",
        "dataset= df.values"
      ],
      "execution_count": 37,
      "outputs": []
    },
    {
      "cell_type": "code",
      "metadata": {
        "id": "R_MPeCXybaOf",
        "colab_type": "code",
        "colab": {
          "base_uri": "https://localhost:8080/",
          "height": 442
        },
        "outputId": "33cb3359-173b-43f0-9479-3a8a68eedbe2"
      },
      "source": [
        "#para ver como quedaron primera columna y la siguiente x1 y la otra x2\n",
        "print(dataset)"
      ],
      "execution_count": 38,
      "outputs": [
        {
          "output_type": "stream",
          "text": [
            "[[  16.68    7.    560.  ]\n",
            " [  11.5     3.    220.  ]\n",
            " [  12.03    3.    340.  ]\n",
            " [  14.88    4.     80.  ]\n",
            " [  13.75    6.    150.  ]\n",
            " [  18.11    7.    330.  ]\n",
            " [   8.      2.    110.  ]\n",
            " [  17.83    7.    210.  ]\n",
            " [  79.24   30.   1460.  ]\n",
            " [  21.5     5.    605.  ]\n",
            " [  40.33   16.    688.  ]\n",
            " [  21.     10.    215.  ]\n",
            " [  13.5     4.    255.  ]\n",
            " [  19.75    6.    462.  ]\n",
            " [  24.      9.    448.  ]\n",
            " [  29.     10.    776.  ]\n",
            " [  15.35    6.    200.  ]\n",
            " [  19.      7.    132.  ]\n",
            " [   9.5     3.     36.  ]\n",
            " [  35.1    17.    770.  ]\n",
            " [  17.9    10.    140.  ]\n",
            " [  52.32   26.    810.  ]\n",
            " [  18.75    9.    450.  ]\n",
            " [  19.83    8.    635.  ]\n",
            " [  10.75    4.    150.  ]]\n"
          ],
          "name": "stdout"
        }
      ]
    },
    {
      "cell_type": "code",
      "metadata": {
        "id": "JxEMGYZHb8tf",
        "colab_type": "code",
        "colab": {}
      },
      "source": [
        "# x:caracteristicas (x1,x2) y variable a predecir\n",
        "X=dataset[:,1:3]\n",
        "Y=dataset[:,0]"
      ],
      "execution_count": 39,
      "outputs": []
    },
    {
      "cell_type": "code",
      "metadata": {
        "id": "8KngtXTQcvLx",
        "colab_type": "code",
        "colab": {
          "base_uri": "https://localhost:8080/",
          "height": 68
        },
        "outputId": "c92c9908-207c-453b-8180-419e5c005b3f"
      },
      "source": [
        "#veo el valor de Y\n",
        "print(Y)"
      ],
      "execution_count": 40,
      "outputs": [
        {
          "output_type": "stream",
          "text": [
            "[16.68 11.5  12.03 14.88 13.75 18.11  8.   17.83 79.24 21.5  40.33 21.\n",
            " 13.5  19.75 24.   29.   15.35 19.    9.5  35.1  17.9  52.32 18.75 19.83\n",
            " 10.75]\n"
          ],
          "name": "stdout"
        }
      ]
    },
    {
      "cell_type": "code",
      "metadata": {
        "id": "8awjJgOVc7GO",
        "colab_type": "code",
        "colab": {
          "base_uri": "https://localhost:8080/",
          "height": 442
        },
        "outputId": "7e9d2935-9584-4494-c130-c8136ed46f6a"
      },
      "source": [
        "print(X)"
      ],
      "execution_count": 41,
      "outputs": [
        {
          "output_type": "stream",
          "text": [
            "[[   7.  560.]\n",
            " [   3.  220.]\n",
            " [   3.  340.]\n",
            " [   4.   80.]\n",
            " [   6.  150.]\n",
            " [   7.  330.]\n",
            " [   2.  110.]\n",
            " [   7.  210.]\n",
            " [  30. 1460.]\n",
            " [   5.  605.]\n",
            " [  16.  688.]\n",
            " [  10.  215.]\n",
            " [   4.  255.]\n",
            " [   6.  462.]\n",
            " [   9.  448.]\n",
            " [  10.  776.]\n",
            " [   6.  200.]\n",
            " [   7.  132.]\n",
            " [   3.   36.]\n",
            " [  17.  770.]\n",
            " [  10.  140.]\n",
            " [  26.  810.]\n",
            " [   9.  450.]\n",
            " [   8.  635.]\n",
            " [   4.  150.]]\n"
          ],
          "name": "stdout"
        }
      ]
    },
    {
      "cell_type": "code",
      "metadata": {
        "id": "5hy-PxkOdFP1",
        "colab_type": "code",
        "colab": {
          "base_uri": "https://localhost:8080/",
          "height": 34
        },
        "outputId": "6168fa40-953f-4e24-ce79-59c07d43f9bd"
      },
      "source": [
        "import tensorflow as tf\n",
        "from tensorflow import keras\n",
        "from tensorflow.keras import layers\n",
        "print(tf.__version__)"
      ],
      "execution_count": 42,
      "outputs": [
        {
          "output_type": "stream",
          "text": [
            "2.2.0\n"
          ],
          "name": "stdout"
        }
      ]
    },
    {
      "cell_type": "code",
      "metadata": {
        "id": "U1apOS4Jen5o",
        "colab_type": "code",
        "colab": {}
      },
      "source": [
        "#Contruimos el modelo con una funcion.\n",
        "def build_model():\n",
        "  model = keras.Sequential([\n",
        "    layers.Dense(64, activation='relu', input_shape=[2]),\n",
        "    layers.Dense(64, activation='relu'),\n",
        "    layers.Dense(1)\n",
        "  ])\n",
        "\n",
        "  optimizer = tf.keras.optimizers.RMSprop(learning_rate=0.001)\n",
        "\n",
        "  model.compile(loss='mse',\n",
        "                optimizer=optimizer,\n",
        "                metrics=['mae', 'mse'])\n",
        "  return model"
      ],
      "execution_count": 43,
      "outputs": []
    },
    {
      "cell_type": "code",
      "metadata": {
        "id": "TQ7l_qnnfffk",
        "colab_type": "code",
        "colab": {}
      },
      "source": [
        "#Llamamos al modelo\n",
        "model = build_model()"
      ],
      "execution_count": 44,
      "outputs": []
    },
    {
      "cell_type": "code",
      "metadata": {
        "id": "s4O-HaP8frPX",
        "colab_type": "code",
        "colab": {
          "base_uri": "https://localhost:8080/",
          "height": 374
        },
        "outputId": "1c317ac6-212e-4401-a0ef-3fccc3cc970a"
      },
      "source": [
        "#Epocas\n",
        "model.fit(X,Y,epochs=10,verbose=1)"
      ],
      "execution_count": 45,
      "outputs": [
        {
          "output_type": "stream",
          "text": [
            "Epoch 1/10\n",
            "1/1 [==============================] - 0s 1ms/step - loss: 7815.2988 - mae: 71.3690 - mse: 7815.2988\n",
            "Epoch 2/10\n",
            "1/1 [==============================] - 0s 1ms/step - loss: 2215.5730 - mae: 38.5278 - mse: 2215.5730\n",
            "Epoch 3/10\n",
            "1/1 [==============================] - 0s 942us/step - loss: 741.9085 - mae: 22.5209 - mse: 741.9085\n",
            "Epoch 4/10\n",
            "1/1 [==============================] - 0s 1ms/step - loss: 283.2943 - mae: 13.7383 - mse: 283.2943\n",
            "Epoch 5/10\n",
            "1/1 [==============================] - 0s 1ms/step - loss: 126.5549 - mae: 8.7846 - mse: 126.5549\n",
            "Epoch 6/10\n",
            "1/1 [==============================] - 0s 2ms/step - loss: 76.2755 - mae: 7.1349 - mse: 76.2755\n",
            "Epoch 7/10\n",
            "1/1 [==============================] - 0s 2ms/step - loss: 61.7754 - mae: 6.6767 - mse: 61.7754\n",
            "Epoch 8/10\n",
            "1/1 [==============================] - 0s 2ms/step - loss: 58.0147 - mae: 6.5845 - mse: 58.0147\n",
            "Epoch 9/10\n",
            "1/1 [==============================] - 0s 2ms/step - loss: 57.1338 - mae: 6.5379 - mse: 57.1338\n",
            "Epoch 10/10\n",
            "1/1 [==============================] - 0s 2ms/step - loss: 56.9357 - mae: 6.5155 - mse: 56.9357\n"
          ],
          "name": "stdout"
        },
        {
          "output_type": "execute_result",
          "data": {
            "text/plain": [
              "<tensorflow.python.keras.callbacks.History at 0x7ff7b7583c50>"
            ]
          },
          "metadata": {
            "tags": []
          },
          "execution_count": 45
        }
      ]
    },
    {
      "cell_type": "code",
      "metadata": {
        "id": "VemOZrYKgvzz",
        "colab_type": "code",
        "colab": {
          "base_uri": "https://localhost:8080/",
          "height": 309
        },
        "outputId": "2a316d4d-e764-4e6b-cfd6-c49868ce4420"
      },
      "source": [
        "!pip install git+https://github.com/tensorflow/docs"
      ],
      "execution_count": 13,
      "outputs": [
        {
          "output_type": "stream",
          "text": [
            "Collecting git+https://github.com/tensorflow/docs\n",
            "  Cloning https://github.com/tensorflow/docs to /tmp/pip-req-build-dank15pv\n",
            "  Running command git clone -q https://github.com/tensorflow/docs /tmp/pip-req-build-dank15pv\n",
            "Requirement already satisfied: astor in /usr/local/lib/python3.6/dist-packages (from tensorflow-docs===0.0.02f0f9b2afcea4c45f19f7089f87d9d8b6f7f833a-) (0.8.1)\n",
            "Requirement already satisfied: absl-py in /usr/local/lib/python3.6/dist-packages (from tensorflow-docs===0.0.02f0f9b2afcea4c45f19f7089f87d9d8b6f7f833a-) (0.9.0)\n",
            "Requirement already satisfied: protobuf in /usr/local/lib/python3.6/dist-packages (from tensorflow-docs===0.0.02f0f9b2afcea4c45f19f7089f87d9d8b6f7f833a-) (3.12.2)\n",
            "Requirement already satisfied: pyyaml in /usr/local/lib/python3.6/dist-packages (from tensorflow-docs===0.0.02f0f9b2afcea4c45f19f7089f87d9d8b6f7f833a-) (3.13)\n",
            "Requirement already satisfied: six in /usr/local/lib/python3.6/dist-packages (from absl-py->tensorflow-docs===0.0.02f0f9b2afcea4c45f19f7089f87d9d8b6f7f833a-) (1.12.0)\n",
            "Requirement already satisfied: setuptools in /usr/local/lib/python3.6/dist-packages (from protobuf->tensorflow-docs===0.0.02f0f9b2afcea4c45f19f7089f87d9d8b6f7f833a-) (49.1.0)\n",
            "Building wheels for collected packages: tensorflow-docs\n",
            "  Building wheel for tensorflow-docs (setup.py) ... \u001b[?25l\u001b[?25hdone\n",
            "  Created wheel for tensorflow-docs: filename=tensorflow_docs-0.0.02f0f9b2afcea4c45f19f7089f87d9d8b6f7f833a_-cp36-none-any.whl size=124710 sha256=0258976412b1e4b89fa84945abf353cde1ab9a6bb44329b7e6ba98cb9cde26ec\n",
            "  Stored in directory: /tmp/pip-ephem-wheel-cache-m6jw3i_6/wheels/eb/1b/35/fce87697be00d2fc63e0b4b395b0d9c7e391a10e98d9a0d97f\n",
            "Successfully built tensorflow-docs\n",
            "Installing collected packages: tensorflow-docs\n",
            "Successfully installed tensorflow-docs-0.0.02f0f9b2afcea4c45f19f7089f87d9d8b6f7f833a-\n"
          ],
          "name": "stdout"
        }
      ]
    },
    {
      "cell_type": "code",
      "metadata": {
        "id": "uwO-6CW4hUKi",
        "colab_type": "code",
        "colab": {}
      },
      "source": [
        "#importamos el modulo de tensorfloe docs\n",
        "import tensorflow_docs as tfdocs\n",
        "import tensorflow_docs.modeling"
      ],
      "execution_count": 46,
      "outputs": []
    },
    {
      "cell_type": "code",
      "metadata": {
        "id": "_NfzoUR7m3u1",
        "colab_type": "code",
        "colab": {
          "base_uri": "https://localhost:8080/",
          "height": 374
        },
        "outputId": "34546e34-c52a-4b22-ca6a-c578c8daba1e"
      },
      "source": [
        "EPOCHS = 1000\n",
        "history = model.fit(\n",
        "    X,Y,\n",
        "    epochs= EPOCHS, verbose=0,\n",
        "    callbacks=[tfdocs.modeling.EpochDots()])"
      ],
      "execution_count": 47,
      "outputs": [
        {
          "output_type": "stream",
          "text": [
            "\n",
            "Epoch: 0, loss:56.8777,  mae:6.5049,  mse:56.8777,  \n",
            "....................................................................................................\n",
            "Epoch: 100, loss:92.6418,  mae:7.7545,  mse:92.6418,  \n",
            "....................................................................................................\n",
            "Epoch: 200, loss:73.7427,  mae:6.9268,  mse:73.7427,  \n",
            "....................................................................................................\n",
            "Epoch: 300, loss:64.3625,  mae:6.4130,  mse:64.3625,  \n",
            "....................................................................................................\n",
            "Epoch: 400, loss:56.1047,  mae:5.9333,  mse:56.1047,  \n",
            "....................................................................................................\n",
            "Epoch: 500, loss:48.1246,  mae:5.4597,  mse:48.1246,  \n",
            "....................................................................................................\n",
            "Epoch: 600, loss:40.2571,  mae:4.8911,  mse:40.2571,  \n",
            "....................................................................................................\n",
            "Epoch: 700, loss:34.3795,  mae:4.3480,  mse:34.3795,  \n",
            "....................................................................................................\n",
            "Epoch: 800, loss:30.9355,  mae:4.1296,  mse:30.9355,  \n",
            "....................................................................................................\n",
            "Epoch: 900, loss:31.1540,  mae:4.2532,  mse:31.1540,  \n",
            "...................................................................................................."
          ],
          "name": "stdout"
        }
      ]
    },
    {
      "cell_type": "code",
      "metadata": {
        "id": "xw5DBUmin8Ca",
        "colab_type": "code",
        "colab": {
          "base_uri": "https://localhost:8080/",
          "height": 279
        },
        "outputId": "a1fe8add-599f-43df-d324-86710b287dd1"
      },
      "source": [
        "#Graficar los valores reales vs la prediccion\n",
        "import matplotlib.pyplot as plt\n",
        "test_predictions = model.predict(X).flatten()\n",
        "a = plt.axes(aspect='equal')\n",
        "plt.scatter(Y, test_predictions)\n",
        "plt.xlabel('X')\n",
        "plt.ylabel('Y')\n",
        "_=plt.plot(Y,Y,color='orange')"
      ],
      "execution_count": 35,
      "outputs": [
        {
          "output_type": "display_data",
          "data": {
            "image/png": "[encoded data removed]",
            "text/plain": [
              "<Figure size 432x288 with 1 Axes>"
            ]
          },
          "metadata": {
            "tags": [],
            "needs_background": "light"
          }
        }
      ]
    },
    {
      "cell_type": "code",
      "metadata": {
        "id": "6pUqWxdlpFuh",
        "colab_type": "code",
        "colab": {
          "base_uri": "https://localhost:8080/",
          "height": 34
        },
        "outputId": "f3d90a40-ae57-4dcd-e63a-0e4a499d9106"
      },
      "source": [
        "import numpy as np\n",
        "model.predict(np.array([[2,110]]))"
      ],
      "execution_count": 36,
      "outputs": [
        {
          "output_type": "execute_result",
          "data": {
            "text/plain": [
              "array([[7.8275805]], dtype=float32)"
            ]
          },
          "metadata": {
            "tags": []
          },
          "execution_count": 36
        }
      ]
    }
  ]
}