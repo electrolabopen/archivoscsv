{
  "nbformat": 4,
  "nbformat_minor": 0,
  "metadata": {
    "colab": {
      "name": "Datosparaentrenar.ipynb",
      "provenance": [],
      "authorship_tag": "ABX9TyMNdCLlFeS1AiLFWLQD1l7q",
      "include_colab_link": true
    },
    "kernelspec": {
      "name": "python3",
      "display_name": "Python 3"
    }
  },
  "cells": [
    {
      "cell_type": "markdown",
      "metadata": {
        "id": "view-in-github",
        "colab_type": "text"
      },
      "source": [
        "<a href=\"https://colab.research.google.com/github/electrolabopen/archivoscsv/blob/master/Datosparaentrenar.ipynb\" target=\"_parent\"><img src=\"https://colab.research.google.com/assets/colab-badge.svg\" alt=\"Open In Colab\"/></a>"
      ]
    },
    {
      "cell_type": "code",
      "metadata": {
        "id": "5EPoapUl5GEv",
        "colab_type": "code",
        "colab": {}
      },
      "source": [
        "import pandas as pd\n",
        "from sklearn.model_selection import train_test_split\n",
        "from sklearn import linear_model\n",
        "from sklearn.metrics import mean_squared_error\n",
        "from sklearn.metrics import r2_score\n",
        "import matplotlib.pyplot as plt\n",
        "\n",
        "#leermos el archivo csv de githud\n",
        "url = 'https://raw.githubusercontent.com/electrolabopen/archivoscsv/master/moviesc10.csv'\n",
        "datos = pd.read_csv(url)"
      ],
      "execution_count": 0,
      "outputs": []
    },
    {
      "cell_type": "code",
      "metadata": {
        "id": "cUgNFbwQ6vdM",
        "colab_type": "code",
        "colab": {}
      },
      "source": [
        "#Creamos el DATA FRAME\n",
        "df= pd.DataFrame(datos)\n",
        "x= df['cast_total_facebook_likes']\n",
        "y= df['imdb_score']\n",
        "print(\"Datos Originales\")\n",
        "print(df)\n",
        "\n",
        "#Prueba y entrenamiento\n",
        "\n",
        "X_train, X_test, y_train, y_test = train_test_split(x,y,test_size=0.7,random_state=42)\n",
        "#test_size si lo pongo en 0.7 me divide los datos en 1/3\n",
        "print(\"X_train\")\n",
        "print(X_train)\n",
        "print(\"y_train\")\n",
        "print(y_train)\n",
        "\n",
        "#Entrenar el modelo\n",
        "X_train= X_train.values.reshape([X_train.values.shape[0],1])\n",
        "X_test= X_test.values.reshape([X_test.values.shape[0],1])\n",
        "regr = linear_model.LinearRegression()\n",
        "regr.fit(X_train,y_train)\n",
        "\n",
        "#Predecir con los datos de prueba\n",
        "y_pred = regr.predict(X_test)\n",
        "\n",
        "plt.scatter(X_train, y_train, color = 'blue')\n",
        "plt.scatter(X_test, y_pred, color = 'red')\n",
        "print(\"Error: \",mean_squared_error(y_test, y_pred))\n",
        "print(\"El valor r^2: \",r2_score(y_test, y_pred))\n"
      ],
      "execution_count": 0,
      "outputs": []
    }
  ]
}