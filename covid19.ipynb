{
  "nbformat": 4,
  "nbformat_minor": 0,
  "metadata": {
    "colab": {
      "name": "covid19.ipynb",
      "provenance": [],
      "authorship_tag": "ABX9TyMb4jfp2mvcciIGfLNSan4z",
      "include_colab_link": true
    },
    "kernelspec": {
      "name": "python3",
      "display_name": "Python 3"
    }
  },
  "cells": [
    {
      "cell_type": "markdown",
      "metadata": {
        "id": "view-in-github",
        "colab_type": "text"
      },
      "source": [
        "<a href=\"https://colab.research.google.com/github/electrolabopen/archivoscsv/blob/master/covid19.ipynb\" target=\"_parent\"><img src=\"https://colab.research.google.com/assets/colab-badge.svg\" alt=\"Open In Colab\"/></a>"
      ]
    },
    {
      "cell_type": "code",
      "metadata": {
        "id": "WtfKJ7D7g6c6",
        "colab_type": "code",
        "colab": {}
      },
      "source": [
        "pip install COVID19Py"
      ],
      "execution_count": 0,
      "outputs": []
    },
    {
      "cell_type": "code",
      "metadata": {
        "id": "MPF49r8GhI-Z",
        "colab_type": "code",
        "colab": {
          "base_uri": "https://localhost:8080/",
          "height": 34
        },
        "outputId": "2294702a-995d-4303-d953-455d1cc0d029"
      },
      "source": [
        "import COVID19Py\n",
        "covid19 = COVID19Py.COVID19()\n",
        "data = covid19.getAll(timelines= True)\n",
        "virusdata = dict(data[\"latest\"])\n",
        "names = list(virusdata.values())\n",
        "print(virusdata)"
      ],
      "execution_count": 3,
      "outputs": [
        {
          "output_type": "stream",
          "text": [
            "{'confirmed': 378547, 'deaths': 16505, 'recovered': 0}\n"
          ],
          "name": "stdout"
        }
      ]
    },
    {
      "cell_type": "code",
      "metadata": {
        "id": "e10zpcgIiT2L",
        "colab_type": "code",
        "colab": {
          "base_uri": "https://localhost:8080/",
          "height": 284
        },
        "outputId": "d4067fda-6852-49a6-feae-5d97345f8a3f"
      },
      "source": [
        "import COVID19Py\n",
        "import matplotlib.pyplot as plt\n",
        "covid19 = COVID19Py.COVID19()\n",
        "location = covid19.getLocationByCountryCode(\"VE\")\n",
        "loc_data = location[0]\n",
        "virusdata = dict(loc_data['latest'])\n",
        "names = list(virusdata.keys())\n",
        "values = list(virusdata.values())\n",
        "plt.bar(range(len(virusdata)), values, tick_label = names)\n",
        "plt.show()\n",
        "print(virusdata)"
      ],
      "execution_count": 20,
      "outputs": [
        {
          "output_type": "display_data",
          "data": {
            "image/png": "[encoded data removed]",
            "text/plain": [
              "<Figure size 432x288 with 1 Axes>"
            ]
          },
          "metadata": {
            "tags": []
          }
        },
        {
          "output_type": "stream",
          "text": [
            "{'confirmed': 77, 'deaths': 0, 'recovered': 0}\n"
          ],
          "name": "stdout"
        }
      ]
    }
  ]
}