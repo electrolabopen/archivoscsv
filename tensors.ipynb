{
  "nbformat": 4,
  "nbformat_minor": 0,
  "metadata": {
    "colab": {
      "name": "tensors",
      "provenance": [],
      "authorship_tag": "ABX9TyMJtTEaUdTQD4ATUn5fs5sj",
      "include_colab_link": true
    },
    "kernelspec": {
      "name": "python3",
      "display_name": "Python 3"
    },
    "accelerator": "GPU"
  },
  "cells": [
    {
      "cell_type": "markdown",
      "metadata": {
        "id": "view-in-github",
        "colab_type": "text"
      },
      "source": [
        "<a href=\"https://colab.research.google.com/github/electrolabopen/archivoscsv/blob/master/tensors.ipynb\" target=\"_parent\"><img src=\"https://colab.research.google.com/assets/colab-badge.svg\" alt=\"Open In Colab\"/></a>"
      ]
    },
    {
      "cell_type": "code",
      "metadata": {
        "id": "hOzo9BE4XyMU",
        "colab_type": "code",
        "colab": {}
      },
      "source": [
        " import torch"
      ],
      "execution_count": 0,
      "outputs": []
    },
    {
      "cell_type": "code",
      "metadata": {
        "id": "XcPkY6mzX1Ry",
        "colab_type": "code",
        "colab": {
          "base_uri": "https://localhost:8080/",
          "height": 34
        },
        "outputId": "71752ba5-b75d-4c7c-bb27-3afaf9a75453"
      },
      "source": [
        "x = torch.tensor([1, 2, 3])\n",
        "x"
      ],
      "execution_count": 20,
      "outputs": [
        {
          "output_type": "execute_result",
          "data": {
            "text/plain": [
              "tensor([1, 2, 3])"
            ]
          },
          "metadata": {
            "tags": []
          },
          "execution_count": 20
        }
      ]
    },
    {
      "cell_type": "code",
      "metadata": {
        "id": "qRw1FwPmapKh",
        "colab_type": "code",
        "colab": {}
      },
      "source": [
        "y = torch.tensor([\n",
        "    [1, 2, 3],\n",
        "    [8, 9, 7],\n",
        "    [4, 5, 6]              \n",
        "\n",
        "])\n",
        "y"
      ],
      "execution_count": 0,
      "outputs": []
    },
    {
      "cell_type": "code",
      "metadata": {
        "id": "_VqInxnnbACk",
        "colab_type": "code",
        "colab": {
          "base_uri": "https://localhost:8080/",
          "height": 67
        },
        "outputId": "08c863d2-53fe-4ac9-d7a8-4ae3fabcfbf7"
      },
      "source": [
        "y = torch.tensor([\n",
        "    [1, 2, 3],\n",
        "    [8, 9, 7],\n",
        "    [4, 5, 6]              \n",
        "\n",
        "], dtype=torch.float)\n",
        "y"
      ],
      "execution_count": 22,
      "outputs": [
        {
          "output_type": "execute_result",
          "data": {
            "text/plain": [
              "tensor([[1., 2., 3.],\n",
              "        [8., 9., 7.],\n",
              "        [4., 5., 6.]])"
            ]
          },
          "metadata": {
            "tags": []
          },
          "execution_count": 22
        }
      ]
    },
    {
      "cell_type": "code",
      "metadata": {
        "id": "H8Jzoxx8be0R",
        "colab_type": "code",
        "colab": {
          "base_uri": "https://localhost:8080/",
          "height": 50
        },
        "outputId": "e28f405c-09bb-47ff-d2a7-87168a0db7ba"
      },
      "source": [
        "torch.ones(1, 2, 3, dtype=torch.int)"
      ],
      "execution_count": 23,
      "outputs": [
        {
          "output_type": "execute_result",
          "data": {
            "text/plain": [
              "tensor([[[1, 1, 1],\n",
              "         [1, 1, 1]]], dtype=torch.int32)"
            ]
          },
          "metadata": {
            "tags": []
          },
          "execution_count": 23
        }
      ]
    },
    {
      "cell_type": "code",
      "metadata": {
        "id": "S2_q8Ox6cCTx",
        "colab_type": "code",
        "colab": {}
      },
      "source": [
        "torch.zeros(5, 3, 2, dtype=torch.float)"
      ],
      "execution_count": 0,
      "outputs": []
    },
    {
      "cell_type": "code",
      "metadata": {
        "id": "ojp_YhOtcyM0",
        "colab_type": "code",
        "colab": {
          "base_uri": "https://localhost:8080/",
          "height": 252
        },
        "outputId": "651a3899-cc22-4d83-a24b-5c4ad6021da8"
      },
      "source": [
        "z= torch.rand(3, 4, 2, dtype= torch.float)\n",
        "z\n",
        "# imprime 3 conjuntos de 4 filas y 2 columnas"
      ],
      "execution_count": 29,
      "outputs": [
        {
          "output_type": "execute_result",
          "data": {
            "text/plain": [
              "tensor([[[0.0773, 0.4433],\n",
              "         [0.6026, 0.3568],\n",
              "         [0.8004, 0.7003],\n",
              "         [0.4951, 0.7654]],\n",
              "\n",
              "        [[0.6037, 0.3964],\n",
              "         [0.9258, 0.5508],\n",
              "         [0.2418, 0.5450],\n",
              "         [0.5111, 0.4097]],\n",
              "\n",
              "        [[0.5328, 0.1035],\n",
              "         [0.6828, 0.3008],\n",
              "         [0.2001, 0.4856],\n",
              "         [0.6099, 0.7536]]])"
            ]
          },
          "metadata": {
            "tags": []
          },
          "execution_count": 29
        }
      ]
    },
    {
      "cell_type": "code",
      "metadata": {
        "id": "kNkD54oOdRPq",
        "colab_type": "code",
        "colab": {
          "base_uri": "https://localhost:8080/",
          "height": 84
        },
        "outputId": "a1348d34-29ca-40d8-c4e4-181d2d9161ef"
      },
      "source": [
        "print(y)\n",
        "y[0]\n",
        "#imprimo los valores de y de la fila 0"
      ],
      "execution_count": 27,
      "outputs": [
        {
          "output_type": "stream",
          "text": [
            "tensor([[1., 2., 3.],\n",
            "        [8., 9., 7.],\n",
            "        [4., 5., 6.]])\n"
          ],
          "name": "stdout"
        },
        {
          "output_type": "execute_result",
          "data": {
            "text/plain": [
              "tensor([1., 2., 3.])"
            ]
          },
          "metadata": {
            "tags": []
          },
          "execution_count": 27
        }
      ]
    },
    {
      "cell_type": "code",
      "metadata": {
        "id": "uaKVsAvHdlFm",
        "colab_type": "code",
        "colab": {
          "base_uri": "https://localhost:8080/",
          "height": 34
        },
        "outputId": "665927b2-cc2e-42bd-c0c2-4cdcd4956df2"
      },
      "source": [
        "y[:, 1]\n",
        "# los elementos de la columna 1 los imprime"
      ],
      "execution_count": 28,
      "outputs": [
        {
          "output_type": "execute_result",
          "data": {
            "text/plain": [
              "tensor([2., 9., 5.])"
            ]
          },
          "metadata": {
            "tags": []
          },
          "execution_count": 28
        }
      ]
    },
    {
      "cell_type": "code",
      "metadata": {
        "id": "l5hkyUrAed-z",
        "colab_type": "code",
        "colab": {
          "base_uri": "https://localhost:8080/",
          "height": 34
        },
        "outputId": "fddaf443-c80a-48a4-9212-ce1a75219155"
      },
      "source": [
        "z[2, :, 0]\n",
        "# imprimo el conjunto 2 y la columna 0"
      ],
      "execution_count": 32,
      "outputs": [
        {
          "output_type": "execute_result",
          "data": {
            "text/plain": [
              "tensor([0.5328, 0.6828, 0.2001, 0.6099])"
            ]
          },
          "metadata": {
            "tags": []
          },
          "execution_count": 32
        }
      ]
    },
    {
      "cell_type": "code",
      "metadata": {
        "id": "iHCBcAhCfbUd",
        "colab_type": "code",
        "colab": {
          "base_uri": "https://localhost:8080/",
          "height": 34
        },
        "outputId": "b0c85c7d-71a0-4641-ced1-da5eb127bd47"
      },
      "source": [
        "y.size()\n",
        "#me dice el tamaño del  array 3 filas 3 columnas"
      ],
      "execution_count": 33,
      "outputs": [
        {
          "output_type": "execute_result",
          "data": {
            "text/plain": [
              "torch.Size([3, 3])"
            ]
          },
          "metadata": {
            "tags": []
          },
          "execution_count": 33
        }
      ]
    },
    {
      "cell_type": "code",
      "metadata": {
        "id": "XFDQSWHNgIVp",
        "colab_type": "code",
        "colab": {
          "base_uri": "https://localhost:8080/",
          "height": 34
        },
        "outputId": "b48845d5-bf4b-4661-a4af-8c09e828e9e9"
      },
      "source": [
        "y.size()[0]"
      ],
      "execution_count": 34,
      "outputs": [
        {
          "output_type": "execute_result",
          "data": {
            "text/plain": [
              "3"
            ]
          },
          "metadata": {
            "tags": []
          },
          "execution_count": 34
        }
      ]
    },
    {
      "cell_type": "code",
      "metadata": {
        "id": "exW_SWcAgqMx",
        "colab_type": "code",
        "colab": {
          "base_uri": "https://localhost:8080/",
          "height": 67
        },
        "outputId": "5e82c9bd-73a0-486a-88a7-7c61c6360e18"
      },
      "source": [
        "t = torch.rand(3,3)\n",
        "t"
      ],
      "execution_count": 35,
      "outputs": [
        {
          "output_type": "execute_result",
          "data": {
            "text/plain": [
              "tensor([[0.5406, 0.2002, 0.4643],\n",
              "        [0.4913, 0.6868, 0.1350],\n",
              "        [0.0261, 0.8397, 0.8478]])"
            ]
          },
          "metadata": {
            "tags": []
          },
          "execution_count": 35
        }
      ]
    },
    {
      "cell_type": "code",
      "metadata": {
        "id": "h5XJYs4yi92J",
        "colab_type": "code",
        "colab": {
          "base_uri": "https://localhost:8080/",
          "height": 67
        },
        "outputId": "3be22c79-2a4d-4598-a716-5935bccdc9c7"
      },
      "source": [
        "print(y)"
      ],
      "execution_count": 36,
      "outputs": [
        {
          "output_type": "stream",
          "text": [
            "tensor([[1., 2., 3.],\n",
            "        [8., 9., 7.],\n",
            "        [4., 5., 6.]])\n"
          ],
          "name": "stdout"
        }
      ]
    },
    {
      "cell_type": "code",
      "metadata": {
        "id": "Yv0SEAmxjEgg",
        "colab_type": "code",
        "colab": {
          "base_uri": "https://localhost:8080/",
          "height": 34
        },
        "outputId": "9efae850-ec83-48d5-bf30-e74617276589"
      },
      "source": [
        "y.reshape(1, 9)\n",
        "#Los agrupa en una lista"
      ],
      "execution_count": 37,
      "outputs": [
        {
          "output_type": "execute_result",
          "data": {
            "text/plain": [
              "tensor([[1., 2., 3., 8., 9., 7., 4., 5., 6.]])"
            ]
          },
          "metadata": {
            "tags": []
          },
          "execution_count": 37
        }
      ]
    },
    {
      "cell_type": "code",
      "metadata": {
        "id": "x6DclNRYjnRA",
        "colab_type": "code",
        "colab": {
          "base_uri": "https://localhost:8080/",
          "height": 34
        },
        "outputId": "cb41b5db-ba8e-487d-bf57-d0aa2d2ce869"
      },
      "source": [
        "torch.squeeze(y.reshape(1, 9))\n",
        "#hace lo mismo"
      ],
      "execution_count": 39,
      "outputs": [
        {
          "output_type": "execute_result",
          "data": {
            "text/plain": [
              "tensor([1., 2., 3., 8., 9., 7., 4., 5., 6.])"
            ]
          },
          "metadata": {
            "tags": []
          },
          "execution_count": 39
        }
      ]
    },
    {
      "cell_type": "code",
      "metadata": {
        "id": "sfp0IR_7j9Cu",
        "colab_type": "code",
        "colab": {
          "base_uri": "https://localhost:8080/",
          "height": 34
        },
        "outputId": "4cc9f547-b0b9-4e11-c401-d53ff3b740ba"
      },
      "source": [
        "y.sum()\n",
        "#suma todos los elementos de la lista"
      ],
      "execution_count": 40,
      "outputs": [
        {
          "output_type": "execute_result",
          "data": {
            "text/plain": [
              "tensor(45.)"
            ]
          },
          "metadata": {
            "tags": []
          },
          "execution_count": 40
        }
      ]
    },
    {
      "cell_type": "code",
      "metadata": {
        "id": "mEzlkLtbkInp",
        "colab_type": "code",
        "colab": {
          "base_uri": "https://localhost:8080/",
          "height": 34
        },
        "outputId": "b84af3bf-c74e-41b7-db96-895cc2fea0a9"
      },
      "source": [
        "torch.max(y)\n",
        "#me da el valor maximo de la lista"
      ],
      "execution_count": 41,
      "outputs": [
        {
          "output_type": "execute_result",
          "data": {
            "text/plain": [
              "tensor(9.)"
            ]
          },
          "metadata": {
            "tags": []
          },
          "execution_count": 41
        }
      ]
    },
    {
      "cell_type": "code",
      "metadata": {
        "id": "l68X7Aiokr_q",
        "colab_type": "code",
        "colab": {
          "base_uri": "https://localhost:8080/",
          "height": 67
        },
        "outputId": "a7ae4549-8f18-4f73-9f77-9e236a43aae3"
      },
      "source": [
        "print(y)"
      ],
      "execution_count": 42,
      "outputs": [
        {
          "output_type": "stream",
          "text": [
            "tensor([[1., 2., 3.],\n",
            "        [8., 9., 7.],\n",
            "        [4., 5., 6.]])\n"
          ],
          "name": "stdout"
        }
      ]
    },
    {
      "cell_type": "code",
      "metadata": {
        "id": "UXWVYAf-lRQl",
        "colab_type": "code",
        "colab": {
          "base_uri": "https://localhost:8080/",
          "height": 50
        },
        "outputId": "2fd42c2a-3161-42fb-f501-e9e88d0a42d7"
      },
      "source": [
        "values, indices = torch.max(y, 1)\n",
        "print(values)\n",
        "print(indices)\n",
        "#Me imprime el valor maximo y el indice donde se encuentra"
      ],
      "execution_count": 44,
      "outputs": [
        {
          "output_type": "stream",
          "text": [
            "tensor([3., 9., 6.])\n",
            "tensor([2, 1, 2])\n"
          ],
          "name": "stdout"
        }
      ]
    },
    {
      "cell_type": "code",
      "metadata": {
        "id": "2UUPl7-8mWIH",
        "colab_type": "code",
        "colab": {
          "base_uri": "https://localhost:8080/",
          "height": 34
        },
        "outputId": "3717d16a-8ee5-47a4-acd8-e9e4ba8736a7"
      },
      "source": [
        "y = [0, 0] == 1\n",
        "y"
      ],
      "execution_count": 50,
      "outputs": [
        {
          "output_type": "execute_result",
          "data": {
            "text/plain": [
              "False"
            ]
          },
          "metadata": {
            "tags": []
          },
          "execution_count": 50
        }
      ]
    },
    {
      "cell_type": "code",
      "metadata": {
        "id": "3F2eVFTqnQnl",
        "colab_type": "code",
        "colab": {
          "base_uri": "https://localhost:8080/",
          "height": 50
        },
        "outputId": "4f86593a-a4f5-45ab-ad71-d135ea60ffcb"
      },
      "source": [
        "import numpy as np\n",
        "\n",
        "a = np.array([[1, 2], [3, 4]])\n",
        "b = torch.from_numpy(a)\n",
        "b"
      ],
      "execution_count": 60,
      "outputs": [
        {
          "output_type": "execute_result",
          "data": {
            "text/plain": [
              "tensor([[1, 2],\n",
              "        [3, 4]])"
            ]
          },
          "metadata": {
            "tags": []
          },
          "execution_count": 60
        }
      ]
    },
    {
      "cell_type": "code",
      "metadata": {
        "id": "-wlF7C6poYOS",
        "colab_type": "code",
        "colab": {
          "base_uri": "https://localhost:8080/",
          "height": 50
        },
        "outputId": "0a18eecd-9571-4d04-8b3d-94dbbaa0b5ea"
      },
      "source": [
        "a[0, 0] = 2\n",
        "a\n",
        "#modifico el array en la fila por el numero que quiero poner ejemplo 2"
      ],
      "execution_count": 62,
      "outputs": [
        {
          "output_type": "execute_result",
          "data": {
            "text/plain": [
              "array([[2, 2],\n",
              "       [3, 4]])"
            ]
          },
          "metadata": {
            "tags": []
          },
          "execution_count": 62
        }
      ]
    },
    {
      "cell_type": "code",
      "metadata": {
        "id": "q0-8rW0_pUQ_",
        "colab_type": "code",
        "colab": {
          "base_uri": "https://localhost:8080/",
          "height": 50
        },
        "outputId": "347a4e00-e54c-4507-ca68-a03766ad1cf0"
      },
      "source": [
        "b"
      ],
      "execution_count": 64,
      "outputs": [
        {
          "output_type": "execute_result",
          "data": {
            "text/plain": [
              "tensor([[2, 2],\n",
              "        [3, 4]])"
            ]
          },
          "metadata": {
            "tags": []
          },
          "execution_count": 64
        }
      ]
    }
  ]
}